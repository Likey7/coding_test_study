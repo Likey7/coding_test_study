{
 "cells": [
  {
   "attachments": {},
   "cell_type": "markdown",
   "metadata": {},
   "source": [
    "# Q23.py\n",
    "- map 함수 풀어줄 때 unpacking * 앞에 붙여주면 됨 \n",
    "- print(*map(lambda x:x[3], sorted(data)))\n",
    "- 'input=sys.stdin.readline' 가 시간을 10배쯤 당겨준다. \n",
    "- 국어와 수학을 반대로 뒤집에서 전부 오름차순으로 정렬하게 함 \n",
    "- 나는 이걸,,, 반대로 바꾸느랴 아스키까지 썼는데 굳이?\n"
   ]
  },
  {
   "attachments": {},
   "cell_type": "markdown",
   "metadata": {},
   "source": [
    "### Reference\n",
    "1. sort() sorted()\n",
    "sort() 원본 변환 -> 리스트\n",
    "sorted() 카피 반환  ->iterable 객체에 사용 가능 \n",
    "\n",
    "\n",
    "2. print(*map(lambda x:x[-1], sorte\n",
    "[파이썬 *(asterisk) 이해하기](https://mingrammer.com/understanding-the-asterisk-of-python/)\n",
    "[[Python] Asterisks(*) in Python](https://jammdev.tistory.com/39)\n"
   ]
  },
  {
   "cell_type": "code",
   "execution_count": 5,
   "metadata": {},
   "outputs": [
    {
     "ename": "ValueError",
     "evalue": "invalid literal for int() with base 10: ''",
     "output_type": "error",
     "traceback": [
      "\u001b[0;31m---------------------------------------------------------------------------\u001b[0m",
      "\u001b[0;31mValueError\u001b[0m                                Traceback (most recent call last)",
      "Cell \u001b[0;32mIn [5], line 3\u001b[0m\n\u001b[1;32m      1\u001b[0m \u001b[39mimport\u001b[39;00m \u001b[39msys\u001b[39;00m\n\u001b[1;32m      2\u001b[0m \u001b[39minput\u001b[39m\u001b[39m=\u001b[39msys\u001b[39m.\u001b[39mstdin\u001b[39m.\u001b[39mreadline \u001b[39m# 이거 넣으면시간 10배정도 빠름 \u001b[39;00m\n\u001b[0;32m----> 3\u001b[0m N \u001b[39m=\u001b[39m \u001b[39mint\u001b[39;49m(\u001b[39minput\u001b[39;49m())\n\u001b[1;32m      4\u001b[0m table \u001b[39m=\u001b[39m []\n\u001b[1;32m      5\u001b[0m \u001b[39mfor\u001b[39;00m _ \u001b[39min\u001b[39;00m \u001b[39mrange\u001b[39m(N):\n",
      "\u001b[0;31mValueError\u001b[0m: invalid literal for int() with base 10: ''"
     ]
    }
   ],
   "source": [
    "import sys\n",
    "input=sys.stdin.readline # 이거 넣으면시간 10배정도 빠름 \n",
    "N = int(input())\n",
    "table = []\n",
    "for _ in range(N):\n",
    "    line  = input().split()\n",
    "    name,korean, english, math = line[0], int(line[1]), (100-int(line[2])),int(line[3])\n",
    "    ascii_name = [-x for x in list(map(ord,list(name)))]\n",
    "    new = [korean, english, math]+ ascii_name +[0]*(10-(len(ascii_name))) +[name]\n",
    "    table.append(new)\n",
    "    \n",
    "table = sorted(table,reverse = True)#sort 함수의 경우 \n",
    "for line in table:\n",
    "    print(line[-1])\n",
    "\n",
    "print(*map(lambda x:x[-1], sorted(table,reverse = True)))\n",
    "# 여기서 * 은 map 함수로 패킹된 것을 풀어주는 역할? \n",
    "# 시간이 엄청 아껴지는것은 아닌 것으로 보임 ㅋㅋ"
   ]
  },
  {
   "cell_type": "code",
   "execution_count": null,
   "metadata": {},
   "outputs": [],
   "source": [
    "#백준 제일 빠른 답안 \n",
    "import sys\n",
    "input=sys.stdin.readline\n",
    "\n",
    "def parse_line(line):\n",
    "    name, kor, eng, math = line.split(' ')\n",
    "    kor, eng, math = int(kor), int(eng), int(math)\n",
    "    return -kor, eng, -math, name\n",
    "\n",
    "N = int(input())\n",
    "data = [parse_line(input()) for _ in range(N)]\n",
    "print(*map(lambda x:x[3], sorted(data)))"
   ]
  },
  {
   "cell_type": "code",
   "execution_count": 44,
   "metadata": {},
   "outputs": [
    {
     "name": "stdout",
     "output_type": "stream",
     "text": [
      "[[3, 1, 1], [3, 1, 9], [3, 5, 5], [5, 1, 5]]\n"
     ]
    }
   ],
   "source": [
    "# 책 해설\n",
    "a= [[5,1,5],[3,5,5],[3,1,9],[3,1,1]] # 리스트든 튜플이든, 안쪽의 원소들 차례로 정렬한다. \n",
    "a.sort()\n",
    "print(a)"
   ]
  },
  {
   "cell_type": "code",
   "execution_count": 1,
   "metadata": {},
   "outputs": [],
   "source": [
    "\n",
    "# lambda + sort 의  key 속성. 내가 원하는 조건에 맞추어서 정렬할 수 있음 \n",
    "n = int(input())\n",
    "students = [] \n",
    "\n",
    "for _ in range(n):\n",
    "    students.append(input().split())\n",
    "    \n",
    "students.sort(key = lambda x: (-int(x[1]), int(x[2]), -int(x[3]),x[0]) )\n",
    "\n",
    "for students in students :\n",
    "    print(students[0])\n"
   ]
  },
  {
   "attachments": {},
   "cell_type": "markdown",
   "metadata": {},
   "source": [
    "# "
   ]
  },
  {
   "attachments": {},
   "cell_type": "markdown",
   "metadata": {},
   "source": [
    "# Q24.py\n",
    "- 시간초과...\n",
    "- quick_sort() 로 바꿔도 시간초과...\n",
    "1. get_distance 로 전체탐색?\n",
    "2. 중간값! 구하기  -> 이게 맞움!\n",
    "- 생각보다 훨씬 간단하게 풀어야 하는 문제였다. \n",
    "- [<백준 18310번-python> 안테나\n",
    "](https://on1ystar.github.io/algorithm/2021/02/22/Algorithm-10/)"
   ]
  },
  {
   "cell_type": "code",
   "execution_count": null,
   "metadata": {},
   "outputs": [],
   "source": [
    "\n",
    "N = int(input())\n",
    "house = list(map(int,input().split()))\n",
    "house.sort()\n",
    "print(house[int((N-1)/2)])"
   ]
  },
  {
   "attachments": {},
   "cell_type": "markdown",
   "metadata": {},
   "source": []
  },
  {
   "attachments": {},
   "cell_type": "markdown",
   "metadata": {},
   "source": [
    "# Q25(실패율).py \n",
    "- \" 스테이지ㅣ에 도달한 유저가 없는 경우 해당 스테이지의 실패율은 0으로 정의합니다. \" \n",
    "    - 0으로 나눌 때의 엣지 케이스를 처리해주어야 함. \n",
    "- [프로그래머스](https://school.programmers.co.kr/learn/courses/30/lessons/42889)\n",
    "\n",
    "\n",
    "### sort(key = lambda 함수) 사용법 익히기 "
   ]
  },
  {
   "cell_type": "code",
   "execution_count": 40,
   "metadata": {},
   "outputs": [
    {
     "data": {
      "text/plain": [
       "[3, 4, 2, 1, 5]"
      ]
     },
     "execution_count": 40,
     "metadata": {},
     "output_type": "execute_result"
    }
   ],
   "source": [
    "# 내 풀이 \n",
    "def solution(N, stages):\n",
    "    answer = []\n",
    "    numbers = [[x,0,0,0] for x in range(N+1)]\n",
    "    numbers[0][2] = len(stages)\n",
    "    for i in stages:\n",
    "        if i<=N:\n",
    "            numbers[i][1]+=1\n",
    "    \n",
    "    for i in range(N):\n",
    "        numbers[i+1][2] = numbers[i][2]-numbers[i][1]\n",
    "        if numbers[i+1][2] ==0: # 0으로 나눌 때의 케이스 분리 \n",
    "            numbers[i+1][3] =0\n",
    "        else:\n",
    "            numbers[i+1][3] = numbers[i+1][1]/numbers[i+1][2] # 실패율인 경우 \n",
    "    \n",
    "    return  [x[0] for x in sorted(numbers[1:],key = lambda x : x[3], reverse = True )]\n",
    "\n",
    "solution(5,[2, 1, 2, 6, 2, 4, 3, 3])\n"
   ]
  },
  {
   "cell_type": "code",
   "execution_count": 42,
   "metadata": {},
   "outputs": [],
   "source": [
    "# 책 답안\n",
    "def solution(N, stages):\n",
    "    answer = []\n",
    "    length = len(stages)\n",
    "    \n",
    "    for i in range(1,N+1):\n",
    "        counts = stages.count(i)\n",
    "        \n",
    "        if length ==0:\n",
    "            fail = 0\n",
    "        else : \n",
    "            fail = counts / length\n",
    "        \n",
    "        answer.append((i,fail))\n",
    "        length -= counts\n",
    "        \n",
    "\n",
    "    answer = sorted(answer, key = lambda t : t[1], reverse = True)\n",
    "    \n",
    "solution(5,[2, 1, 2, 6, 2, 4, 3, 3])\n",
    "\n",
    "    "
   ]
  },
  {
   "cell_type": "code",
   "execution_count": 43,
   "metadata": {},
   "outputs": [],
   "source": [
    "# 프로그래머스 풀이 \n",
    "def solution(N, stages):\n",
    "    result = {} # key = stage, value = fail rate\n",
    "    denominator = len(stages) # 각 스테이지별로 전체 인원, 살아남은 사람들 \n",
    "    for stage in range(1, N+1): # 스테이지별로 계산을 하자 \n",
    "        if denominator != 0: # 한번 0이 되면 그 이후로는 계속 0인 것이지요\n",
    "            count = stages.count(stage)\n",
    "            result[stage] = count / denominator\n",
    "            denominator -= count\n",
    "        else: \n",
    "            result[stage] = 0\n",
    "    return sorted(result, key=lambda x : result[x], reverse=True)"
   ]
  },
  {
   "cell_type": "code",
   "execution_count": null,
   "metadata": {},
   "outputs": [],
   "source": []
  },
  {
   "attachments": {},
   "cell_type": "markdown",
   "metadata": {},
   "source": [
    "# Q26.py\n",
    "- 처음 풀었던 방법\n",
    "1. 정렬\n",
    "2. 앞쪽 두개 합친 뒤\n",
    "3. 기존 카드 정렬 앞에서부터 순서 비교해서 적절한 위치에 넣는다. \n",
    "=> 시간 초과 \n",
    "\n",
    "### heqpq 사용!\n",
    "- import heapq\n",
    "- from heapq import heappush, heappop, heapify\n",
    "- heapq.heappush(list,val) : 넣어주려는 리스트 형태, 그리고 값을 넣는다. \n",
    "- heapq.heappop(list) : \n",
    "- heapq.heapify(list) : 넣을 때 heappush 로 넣지 않아도 한꺼번에 힙으로 만들 수 있당\n",
    "\n",
    "\n",
    "### [heapq 사용](https://www.daleseo.com/python-heapq/)\n",
    "- \n",
    "- 파이썬에서는 heapq 모듈을 통해서 원소를 추가하거나 삭제한 리스트가 그냥 최소 힙입니다.\n",
    "- 원소 추가 삭제는 heapq를 통해서 \n",
    "- 첫번쨰 원소 접근은 인덱스로 heap[0]\n",
    "- 근데 밑에 원소 보려면 앞에 것 빼내야 한다 ㅋㅋ\n"
   ]
  },
  {
   "cell_type": "code",
   "execution_count": null,
   "metadata": {},
   "outputs": [],
   "source": []
  },
  {
   "cell_type": "code",
   "execution_count": 11,
   "metadata": {},
   "outputs": [
    {
     "name": "stdout",
     "output_type": "stream",
     "text": [
      "[2, 3, 4, 7, 8, 12]\n",
      "5 5\n",
      "[4, 5, 7, 8, 12]\n",
      "9 14\n",
      "[7, 8, 9, 12]\n",
      "15 29\n",
      "[9, 15, 12]\n",
      "24 53\n",
      "[24, 12]\n",
      "36 89\n",
      "89\n"
     ]
    }
   ],
   "source": [
    "\n",
    "n = int(input())\n",
    "cards = [int(input()) for x in range(n)]\n",
    "\n",
    "cards.sort()\n",
    "    \n",
    "SUM = 0\n",
    "while len(cards)>1:\n",
    "    print(cards)\n",
    "    cards[:2] = [cards[0]+ cards[1]]\n",
    "    SUM+=cards[0]\n",
    "    print(cards[0], SUM)\n",
    "    pin = 0\n",
    "    for i in range(len(cards[1:])):\n",
    "        if cards[pin] <cards[i]:\n",
    "            break\n",
    "        else : \n",
    "            cards[pin], cards[i] = cards[i], cards[pin]\n",
    "            pin = i\n",
    "    \n",
    "    \n",
    "\n",
    "#[2, 3, 4, 7, 8, 12]\n",
    "\n",
    "    \n",
    "print(SUM)"
   ]
  },
  {
   "cell_type": "code",
   "execution_count": 6,
   "metadata": {},
   "outputs": [
    {
     "name": "stdout",
     "output_type": "stream",
     "text": [
      "[3, 3, 4, 5, 6]\n"
     ]
    }
   ],
   "source": [
    "# 답지 힙큐사용\n",
    "# heapq : priority queue 를 구현한 것. \n",
    "# 정렬 된 형태로 저장이 된다. \n",
    "# 구조는 같으나 이 자료구조를 사용하는 것만으로도 문제 해결 ㅋㅋ,.\n",
    "\n",
    "import heapq\n",
    "\n",
    "n = int(input())\n",
    "# 힙에 초기 데이터 삽입\n",
    "heap=[]\n",
    "for i in range(n):\n",
    "    data = int(input())\n",
    "    heapq.headpush(heap,data)\n",
    "    \n",
    "result = 0\n",
    "\n",
    "while len(heap)!=1:\n",
    "    one = heapq.headpop(heap)\n",
    "    two = heapq.headpop(heap)\n",
    "    \n",
    "    sum_value = one+two\n",
    "    result+=sum_value\n",
    "    heapq.headpush(heap,sum_value)\n",
    "    \n",
    "print(result)"
   ]
  },
  {
   "cell_type": "code",
   "execution_count": 15,
   "metadata": {},
   "outputs": [
    {
     "name": "stdout",
     "output_type": "stream",
     "text": [
      "90\n"
     ]
    }
   ],
   "source": [
    "# 기존 코드보고 수정\n",
    "import heapq\n",
    "import sys\n",
    "f = sys.stdin.readline\n",
    "n = int(f())\n",
    "\n",
    "#heap = [int(f()) for _ in range(n)]\n",
    "#heapq.heapify(heap) \n",
    "heap = []\n",
    "for _ in range(n):\n",
    "    val = int(f())\n",
    "    heapq.heappush(heap,val)\n",
    "\n",
    "answer = 0\n",
    "\n",
    "while len(heap)!=1:\n",
    "    val = (heapq.heappop(heap) +heapq.heappop(heap))\n",
    "    heapq.heappush(heap,val)\n",
    "    answer+=val\n",
    "   \n",
    "print(answer)"
   ]
  },
  {
   "cell_type": "code",
   "execution_count": null,
   "metadata": {},
   "outputs": [],
   "source": [
    "# 백준에서 시간 공간 적게 나온 답안 \n",
    "from heapq import*\n",
    "p=heappop\n",
    "n,*h=map(int,open(0))\n",
    "h.sort()\n",
    "print(sum(heappush(h,t:=p(h)+p(h))or t for _ in h[1:]))"
   ]
  },
  {
   "cell_type": "code",
   "execution_count": null,
   "metadata": {},
   "outputs": [],
   "source": [
    "from heapq import*\n",
    "n,*c=map(int,open(0))\n",
    "heapify(c)\n",
    "print(sum(heappush(c,x:=heappop(c)+heappop(c))or x for _ in c[1:]))"
   ]
  },
  {
   "cell_type": "code",
   "execution_count": null,
   "metadata": {},
   "outputs": [],
   "source": [
    "import sys\n",
    "from heapq import heapify, heappop, heappush\n",
    "\n",
    "def get_int():\n",
    "    return int(sys.stdin.readline())\n",
    "\n",
    "def main():\n",
    "    n = get_int()\n",
    "\n",
    "    a = []\n",
    "    for _ in range(n):\n",
    "        a.append(get_int())\n",
    "\n",
    "    heapify(a)\n",
    "    res = 0\n",
    "\n",
    "    while len(a) > 1:\n",
    "        x = heappop(a)\n",
    "        y = heappop(a)\n",
    "        res += x + y\n",
    "        heappush(a, x + y)\n",
    "\n",
    "    print(res)\n",
    "\n",
    "main()"
   ]
  },
  {
   "cell_type": "code",
   "execution_count": null,
   "metadata": {},
   "outputs": [],
   "source": [
    "import heapq\n",
    "import sys\n",
    "\n",
    "index = int(sys.stdin.readline())\n",
    "heap = [int(sys.stdin.readline()) for _ in range(index)]\n",
    "heapq.heapify(heap)\n",
    "song = 0\n",
    "if (index == 1):\n",
    "    print(0)\n",
    "else:\n",
    "    for _ in range(index-1):\n",
    "        sum=heapq.heappop(heap)\n",
    "        sum+=heapq.heappop(heap)\n",
    "        heapq.heappush(heap,sum)\n",
    "        song += sum\n",
    "    print(song)\n"
   ]
  },
  {
   "attachments": {},
   "cell_type": "markdown",
   "metadata": {},
   "source": [
    "### heapq 응용 : max heap\n"
   ]
  },
  {
   "cell_type": "code",
   "execution_count": 17,
   "metadata": {},
   "outputs": [
    {
     "name": "stdout",
     "output_type": "stream",
     "text": [
      "8\n",
      "7\n",
      "5\n",
      "4\n",
      "3\n",
      "1\n"
     ]
    }
   ],
   "source": [
    "from heapq import heappush, heappop\n",
    "\n",
    "nums = [4, 1, 7, 3, 8, 5]\n",
    "heap = []\n",
    "\n",
    "\n",
    "for num in nums:\n",
    "  heappush(heap, (-num, num))  # (우선 순위, 값)\n",
    "\n",
    "while heap:\n",
    "  print(heappop(heap)[1])  # index 1"
   ]
  },
  {
   "attachments": {},
   "cell_type": "markdown",
   "metadata": {},
   "source": [
    "### heapq 응용 앞에서 n 번째로 큰 것\n",
    "- 번 pop "
   ]
  },
  {
   "cell_type": "code",
   "execution_count": null,
   "metadata": {},
   "outputs": [],
   "source": [
    "from heapq import heappush, heappop\n",
    "\n",
    "def nth_smallest(nums, n):\n",
    "    heap = []\n",
    "    for num in nums:\n",
    "        heappush(heap, num)\n",
    "\n",
    "    nth_min = None\n",
    "    for _ in range(n):\n",
    "        nth_min = heappop(heap)\n",
    "\n",
    "    return nth_min\n",
    "\n",
    "print(nth_smallest([4, 1, 7, 3, 8, 5], 3))"
   ]
  },
  {
   "attachments": {},
   "cell_type": "markdown",
   "metadata": {},
   "source": [
    "### 응용 heapq 에 넣은 뒤, 정렬"
   ]
  },
  {
   "cell_type": "code",
   "execution_count": 18,
   "metadata": {},
   "outputs": [
    {
     "name": "stdout",
     "output_type": "stream",
     "text": [
      "[1, 3, 4, 5, 7, 8]\n"
     ]
    }
   ],
   "source": [
    "from heapq import heappush, heappop\n",
    "\n",
    "def heap_sort(nums):\n",
    "  heap = []\n",
    "  for num in nums:\n",
    "    heappush(heap, num)\n",
    "\n",
    "  sorted_nums = []\n",
    "  while heap:\n",
    "    sorted_nums.append(heappop(heap))\n",
    "  return sorted_nums\n",
    "\n",
    "print(heap_sort([4, 1, 7, 3, 8, 5]))"
   ]
  },
  {
   "cell_type": "code",
   "execution_count": 19,
   "metadata": {},
   "outputs": [
    {
     "name": "stdout",
     "output_type": "stream",
     "text": [
      "[1, 3, 4, 5, 7, 8]\n"
     ]
    }
   ],
   "source": [
    "from heapq import heappush, heappop, heapify\n",
    "\n",
    "def heap_sort(nums):\n",
    "  heapify(nums)\n",
    "\n",
    "  sorted_nums = []\n",
    "  while nums:\n",
    "    sorted_nums.append(heappop(nums))\n",
    "  return sorted_nums\n",
    "\n",
    "print(heap_sort([4, 1, 7, 3, 8, 5]))"
   ]
  },
  {
   "cell_type": "code",
   "execution_count": null,
   "metadata": {},
   "outputs": [],
   "source": []
  }
 ],
 "metadata": {
  "kernelspec": {
   "display_name": "crawling_env",
   "language": "python",
   "name": "python3"
  },
  "language_info": {
   "codemirror_mode": {
    "name": "ipython",
    "version": 3
   },
   "file_extension": ".py",
   "mimetype": "text/x-python",
   "name": "python",
   "nbconvert_exporter": "python",
   "pygments_lexer": "ipython3",
   "version": "3.8.15"
  },
  "orig_nbformat": 4,
  "vscode": {
   "interpreter": {
    "hash": "427bdb5616c19cd3c945fb1a14828eed19f237cc5d9563f3b5ff33dd9ac22ecd"
   }
  }
 },
 "nbformat": 4,
 "nbformat_minor": 2
}
