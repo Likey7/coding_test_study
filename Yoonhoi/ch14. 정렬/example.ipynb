{
 "cells": [
  {
   "attachments": {},
   "cell_type": "markdown",
   "metadata": {},
   "source": [
    "# Q6.py\n",
    "- map 함수 풀어줄 때 unpacking * 앞에 붙여주면 됨 \n",
    "- print(*map(lambda x:x[3], sorted(data)))\n",
    "- 'input=sys.stdin.readline' 가 시간을 10배쯤 당겨준다. \n",
    "- 국어와 수학을 반대로 뒤집에서 전부 오름차순으로 정렬하게 함 \n",
    "- 나는 이걸,,, 반대로 바꾸느랴 아스키까지 썼는데 굳이?\n"
   ]
  },
  {
   "attachments": {},
   "cell_type": "markdown",
   "metadata": {},
   "source": [
    "### Reference\n",
    "1. sort() sorted()\n",
    "sort() 원본 변환 -> 리스트\n",
    "sorted() 카피 반환  ->iterable 객체에 사용 가능 \n",
    "\n",
    "\n",
    "2. print(*map(lambda x:x[-1], sorte\n",
    "[파이썬 *(asterisk) 이해하기](https://mingrammer.com/understanding-the-asterisk-of-python/)\n",
    "[[Python] Asterisks(*) in Python](https://jammdev.tistory.com/39)\n"
   ]
  },
  {
   "cell_type": "code",
   "execution_count": 11,
   "metadata": {},
   "outputs": [],
   "source": [
    "import sys\n",
    "input=sys.stdin.readline # 이거 넣으면시간 10배정도 빠름 \n",
    "N = int(input())\n",
    "table = []\n",
    "for _ in range(N):\n",
    "    line  = input().split()\n",
    "    name,korean, english, math = line[0], int(line[1]), (100-int(line[2])),int(line[3])\n",
    "    ascii_name = [-x for x in list(map(ord,list(name)))]\n",
    "    new = [korean, english, math]+ ascii_name +[0]*(10-(len(ascii_name))) +[name]\n",
    "    table.append(new)\n",
    "    \n",
    "table = sorted(table,reverse = True)#sort 함수의 경우 \n",
    "for line in table:\n",
    "    print(line[-1])\n",
    "\n",
    "print(*map(lambda x:x[-1], sorted(table,reverse = True)))\n",
    "# 여기서 * 은 map 함수로 패킹된 것을 풀어주는 역할? \n",
    "# 시간이 엄청 아껴지는것은 아닌 것으로 보임 ㅋㅋ"
   ]
  },
  {
   "cell_type": "code",
   "execution_count": null,
   "metadata": {},
   "outputs": [],
   "source": [
    "#백준 제일 빠른 답안 \n",
    "import sys\n",
    "input=sys.stdin.readline\n",
    "\n",
    "def parse_line(line):\n",
    "    name, kor, eng, math = line.split(' ')\n",
    "    kor, eng, math = int(kor), int(eng), int(math)\n",
    "    return -kor, eng, -math, name\n",
    "\n",
    "N = int(input())\n",
    "data = [parse_line(input()) for _ in range(N)]\n",
    "print(*map(lambda x:x[3], sorted(data)))"
   ]
  },
  {
   "attachments": {},
   "cell_type": "markdown",
   "metadata": {},
   "source": [
    "# "
   ]
  },
  {
   "attachments": {},
   "cell_type": "markdown",
   "metadata": {},
   "source": [
    "# Q24.py\n",
    "- 시간초과...\n",
    "- quick_sort() 로 바꿔도 시간초과...\n",
    "1. get_distance 로 전체탐색?\n",
    "2. 중간값! 구하기  -> 이게 맞움!\n",
    "- 생각보다 훨씬 간단하게 풀어야 하는 문제였다. \n",
    "- [<백준 18310번-python> 안테나\n",
    "](https://on1ystar.github.io/algorithm/2021/02/22/Algorithm-10/)"
   ]
  },
  {
   "cell_type": "code",
   "execution_count": 6,
   "metadata": {},
   "outputs": [],
   "source": [
    "\n",
    "N = int(input())\n",
    "house = list(map(int,input().split()))\n",
    "house.sort()\n",
    "print(house[int((N-1)/2)])"
   ]
  },
  {
   "attachments": {},
   "cell_type": "markdown",
   "metadata": {},
   "source": []
  },
  {
   "cell_type": "code",
   "execution_count": 1,
   "metadata": {},
   "outputs": [
    {
     "name": "stdout",
     "output_type": "stream",
     "text": [
      "1\n",
      "1\n",
      "1\n",
      "0\n"
     ]
    }
   ],
   "source": [
    "a=1\n",
    "b=a\n",
    "print(a)\n",
    "print(b)\n",
    "b-=1\n",
    "print(a)\n",
    "print(b)"
   ]
  },
  {
   "cell_type": "code",
   "execution_count": null,
   "metadata": {},
   "outputs": [],
   "source": []
  },
  {
   "attachments": {},
   "cell_type": "markdown",
   "metadata": {},
   "source": [
    "# Q27.py\n",
    "\n",
    "1. 존재하는지 확인(이진탐색)\n",
    "2. 한칸씩 이동하면서 이전,이후 인덱스 찾아서 길이 구하기 (<여기서 틀린거 아닐까,,, >)"
   ]
  },
  {
   "cell_type": "code",
   "execution_count": null,
   "metadata": {},
   "outputs": [],
   "source": []
  }
 ],
 "metadata": {
  "kernelspec": {
   "display_name": "crawling_env",
   "language": "python",
   "name": "python3"
  },
  "language_info": {
   "codemirror_mode": {
    "name": "ipython",
    "version": 3
   },
   "file_extension": ".py",
   "mimetype": "text/x-python",
   "name": "python",
   "nbconvert_exporter": "python",
   "pygments_lexer": "ipython3",
   "version": "3.8.15"
  },
  "orig_nbformat": 4,
  "vscode": {
   "interpreter": {
    "hash": "427bdb5616c19cd3c945fb1a14828eed19f237cc5d9563f3b5ff33dd9ac22ecd"
   }
  }
 },
 "nbformat": 4,
 "nbformat_minor": 2
}
