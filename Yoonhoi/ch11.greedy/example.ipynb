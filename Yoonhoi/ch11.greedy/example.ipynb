{
 "cells": [
  {
   "cell_type": "code",
   "execution_count": 21,
   "metadata": {},
   "outputs": [
    {
     "name": "stdout",
     "output_type": "stream",
     "text": [
      "3\n"
     ]
    }
   ],
   "source": [
    "li = [0,3,0,2,1]\n",
    "N = min(li)\n",
    "count = len([x for x in li if x!=0])\n",
    "print(count)"
   ]
  },
  {
   "cell_type": "code",
   "execution_count": 22,
   "metadata": {},
   "outputs": [
    {
     "data": {
      "text/plain": [
       "[(1, 3), (3, 2), (4, 1)]"
      ]
     },
     "execution_count": 22,
     "metadata": {},
     "output_type": "execute_result"
    }
   ],
   "source": [
    "[i for i in enumerate(li) if i[1]!=0]\n",
    "\n"
   ]
  },
  {
   "cell_type": "code",
   "execution_count": 25,
   "metadata": {},
   "outputs": [],
   "source": []
  },
  {
   "cell_type": "code",
   "execution_count": null,
   "metadata": {},
   "outputs": [],
   "source": [
    "def solution(food_times, k):\n",
    "    answer = 0\n",
    "    N=0 \n",
    "    SUM = 0\n",
    "    count = len(food_times)\n",
    "    while k>=0:\n",
    "        for i,x in enumerate(food_times):\n",
    "            if x>0:\n",
    "                food_times[i] = x-N\n",
    "                \n",
    "        # 리스트내에서 0이 아닌 음식의 개수와 최솟값을 찾는다.  \n",
    "        non_zero = [x for x in food_times if x!=0]\n",
    "        count = len(non_zero)\n",
    "        N =min(non_zero)  \n",
    "\n",
    "        # 리스트 내에서 남은 음식의 개수를 찾는다         \n",
    "        k = k-(N*count)\n",
    "        \n",
    "    # k 가 구간에 들어왔을 때 와일문을 빠져나오고, \n",
    "    val = k%count\n",
    "    # food_times 에서 맨앞에서 +val 만큼에 있는 넘버 뽑는다. \n",
    "    part = [i for i in enumerate(food_times) if i[1]!=0] #(인덱스, 밸류 튜블 형태로 )\n",
    "    answer = part[val][0]+1                \n",
    "\n",
    "    \n",
    "    return answer"
   ]
  },
  {
   "cell_type": "code",
   "execution_count": 26,
   "metadata": {},
   "outputs": [
    {
     "name": "stdout",
     "output_type": "stream",
     "text": [
      "1 3 2\n",
      "0 3\n",
      "1 1\n",
      "2 2\n",
      "1 2 0\n",
      "0 2\n",
      "1 0\n",
      "2 1\n",
      "1 1 -1\n"
     ]
    },
    {
     "data": {
      "text/plain": [
       "1"
      ]
     },
     "execution_count": 26,
     "metadata": {},
     "output_type": "execute_result"
    }
   ],
   "source": [
    "solution([3, 1, 2], 5)"
   ]
  },
  {
   "cell_type": "code",
   "execution_count": 28,
   "metadata": {},
   "outputs": [
    {
     "data": {
      "text/plain": [
       "[1, 2, 3]"
      ]
     },
     "execution_count": 28,
     "metadata": {},
     "output_type": "execute_result"
    }
   ],
   "source": [
    "li = [3, 1, 2]\n",
    "sorted(li)"
   ]
  },
  {
   "cell_type": "code",
   "execution_count": null,
   "metadata": {},
   "outputs": [],
   "source": []
  }
 ],
 "metadata": {
  "kernelspec": {
   "display_name": "crawling_env",
   "language": "python",
   "name": "python3"
  },
  "language_info": {
   "codemirror_mode": {
    "name": "ipython",
    "version": 3
   },
   "file_extension": ".py",
   "mimetype": "text/x-python",
   "name": "python",
   "nbconvert_exporter": "python",
   "pygments_lexer": "ipython3",
   "version": "3.8.15"
  },
  "orig_nbformat": 4,
  "vscode": {
   "interpreter": {
    "hash": "427bdb5616c19cd3c945fb1a14828eed19f237cc5d9563f3b5ff33dd9ac22ecd"
   }
  }
 },
 "nbformat": 4,
 "nbformat_minor": 2
}
