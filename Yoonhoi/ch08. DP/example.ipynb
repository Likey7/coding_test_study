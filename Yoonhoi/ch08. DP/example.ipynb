{
 "cells": [
  {
   "cell_type": "code",
   "execution_count": 1,
   "metadata": {},
   "outputs": [
    {
     "name": "stdout",
     "output_type": "stream",
     "text": [
      "3\n"
     ]
    }
   ],
   "source": [
    "# 8-1\n",
    "def fibo(x):\n",
    "    if x ==1 or x ==2 : \n",
    "        return 1\n",
    "    return fibo(x-1) + fibo(x-2)\n",
    "\n",
    "print(fibo(4))"
   ]
  },
  {
   "cell_type": "code",
   "execution_count": 2,
   "metadata": {},
   "outputs": [
    {
     "name": "stdout",
     "output_type": "stream",
     "text": [
      "218922995834555169026\n"
     ]
    }
   ],
   "source": [
    "# 8-2.py ((피보나치 수열 (재귀적)))\n",
    "d = [0]*100\n",
    "\n",
    "\n",
    "def fibo(x):\n",
    "    if x==1 or x==2:\n",
    "        return 1\n",
    "    \n",
    "    if d[x]!= 0:\n",
    "        return d[x]\n",
    "    d[x] = fibo(x-1) + fibo(x-2)\n",
    "    return d[x]\n",
    "\n",
    "print(fibo(99))\n"
   ]
  },
  {
   "cell_type": "code",
   "execution_count": 3,
   "metadata": {},
   "outputs": [
    {
     "name": "stdout",
     "output_type": "stream",
     "text": [
      "f(6) f(5) f(4) f(3) f(2) f(1) f(2) f(3) f(4) "
     ]
    },
    {
     "data": {
      "text/plain": [
       "8"
      ]
     },
     "execution_count": 3,
     "metadata": {},
     "output_type": "execute_result"
    }
   ],
   "source": [
    "# 8-3.py\n",
    "d = [0] *100\n",
    "def pibo(x):\n",
    "    print('f('+str(x)+')',end = ' ')\n",
    "    if x==1 or x==2:\n",
    "        return 1\n",
    "    if d[x] != 0 :\n",
    "        return d[x]\n",
    "    d[x] = pibo(x-1)+pibo(x-2)\n",
    "    return d[x]\n",
    "\n",
    "pibo(6)"
   ]
  },
  {
   "cell_type": "code",
   "execution_count": 4,
   "metadata": {},
   "outputs": [
    {
     "name": "stdout",
     "output_type": "stream",
     "text": [
      "218922995834555169026\n"
     ]
    }
   ],
   "source": [
    "# 8-4.py \n",
    "# 피보나치 수열 (반복적, 버틈업)\n",
    "\n",
    "d = [0]*100\n",
    "\n",
    "d[1]=1\n",
    "d[2] = 1\n",
    "n =99\n",
    "\n",
    "for i in range(3, n+1):\n",
    "    d[i] = d[i-1]+d[i-2]\n",
    "    \n",
    "print(d[n])"
   ]
  },
  {
   "attachments": {},
   "cell_type": "markdown",
   "metadata": {},
   "source": [
    "# 실전문제 2. \n",
    "\n"
   ]
  },
  {
   "cell_type": "code",
   "execution_count": 6,
   "metadata": {},
   "outputs": [
    {
     "name": "stdout",
     "output_type": "stream",
     "text": [
      "5\n"
     ]
    }
   ],
   "source": [
    "#잘못 푼 풀이 \n",
    "x = int(input())\n",
    "\n",
    "# 1. x가 5로 나누어지면 5로나눈다. \n",
    "\n",
    "def func(x):\n",
    "    if x%5==0:\n",
    "        result = x/5\n",
    "    elif x%3 ==0:\n",
    "        result = x/3\n",
    "    elif x%2==0:\n",
    "        result = x/2\n",
    "    else:\n",
    "        result = x-1\n",
    "        \n",
    "    \n",
    "    return result\n",
    "    \n",
    "target = 1\n",
    "\n",
    "def main(x):\n",
    "    count = 0\n",
    "    while x>1:\n",
    "        x = func(x)\n",
    "        count+=1\n",
    "    print(count)\n",
    "\n",
    "main(x)"
   ]
  },
  {
   "cell_type": "code",
   "execution_count": null,
   "metadata": {},
   "outputs": [],
   "source": []
  }
 ],
 "metadata": {
  "kernelspec": {
   "display_name": "crawling_env",
   "language": "python",
   "name": "python3"
  },
  "language_info": {
   "codemirror_mode": {
    "name": "ipython",
    "version": 3
   },
   "file_extension": ".py",
   "mimetype": "text/x-python",
   "name": "python",
   "nbconvert_exporter": "python",
   "pygments_lexer": "ipython3",
   "version": "3.8.15"
  },
  "orig_nbformat": 4,
  "vscode": {
   "interpreter": {
    "hash": "427bdb5616c19cd3c945fb1a14828eed19f237cc5d9563f3b5ff33dd9ac22ecd"
   }
  }
 },
 "nbformat": 4,
 "nbformat_minor": 2
}
